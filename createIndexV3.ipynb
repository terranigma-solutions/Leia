{
 "cells": [
  {
   "cell_type": "code",
   "execution_count": 1,
   "outputs": [],
   "source": [
    "import os\n",
    "import sys\n",
    "import json"
   ],
   "metadata": {
    "collapsed": false
   }
  },
  {
   "cell_type": "code",
   "execution_count": 2,
   "outputs": [],
   "source": [
    "# Open and read the config file\n",
    "with open('config.json', 'r') as config_file:\n",
    "    config_data = json.load(config_file)\n",
    "\n",
    "# Retrieve the API key from the config data\n",
    "api_key = config_data['api_key']\n",
    "os.environ['OPENAI_API_KEY'] = api_key"
   ],
   "metadata": {
    "collapsed": false
   }
  },
  {
   "cell_type": "markdown",
   "source": [
    "## logging"
   ],
   "metadata": {
    "collapsed": false
   }
  },
  {
   "cell_type": "code",
   "execution_count": 3,
   "outputs": [],
   "source": [
    "import tiktoken\n",
    "from llama_index.callbacks import CallbackManager, TokenCountingHandler\n",
    "from llama_index import VectorStoreIndex, SimpleDirectoryReader, ServiceContext\n",
    "\n",
    "# you can set a tokenizer directly, or optionally let it default\n",
    "# to the same tokenizer that was used previously for token counting\n",
    "# NOTE: The tokenizer should be a function that takes in text and returns a list of tokens\n",
    "token_counter = TokenCountingHandler(\n",
    "    tokenizer=tiktoken.encoding_for_model(\"gpt-4\").encode,\n",
    "    verbose=True  # set to true to see usage printed to the console\n",
    "    )\n",
    "callback_manager = CallbackManager([token_counter])"
   ],
   "metadata": {
    "collapsed": false
   }
  },
  {
   "cell_type": "markdown",
   "source": [
    "## create Vector Index\n"
   ],
   "metadata": {
    "collapsed": false
   }
  },
  {
   "cell_type": "code",
   "execution_count": 10,
   "outputs": [],
   "source": [
    "# Load you data into 'Documents' a custom type by LlamaIndex\n",
    "from llama_index import SimpleDirectoryReader\n",
    "\n",
    "documents = SimpleDirectoryReader('./data', recursive=True).load_data()"
   ],
   "metadata": {
    "collapsed": false
   }
  },
  {
   "cell_type": "markdown",
   "source": [
    "### add metadata"
   ],
   "metadata": {
    "collapsed": false
   }
  },
  {
   "cell_type": "code",
   "execution_count": 11,
   "outputs": [
    {
     "name": "stdout",
     "output_type": "stream",
     "text": [
      "NULL : 3D Workspace\n",
      "NULL : Activate a License\n",
      "LogWindow : Activity Feed\n",
      "AcceptAddSpace : Add Space\n",
      "NULL : Advanced Interactions\n",
      "AnalysisTabButton : Analysis Explorer\n",
      "NULL : Annotation\n",
      "AnnotationsTabButton : Annotations Explorer\n",
      "AnnotationsList : Annotations List\n",
      "NULL : Asynchronous collaboration\n",
      "AutomaticCollabToggle : Automatic Collaboration Mode\n",
      "AvailableDataListView : Available Data\n",
      "ProjectAvailableOfflineToggle : Available Offline\n",
      "AvailableSessionsList : Available Sessions\n",
      "NULL : Blocks\n",
      "BreadCrumbs : Breadcrumb Trail\n",
      "NULL : Cache\n",
      "NULL : Callout Block\n",
      "NULL : Clipping Block\n",
      "CollabMenu : Collab Menu\n",
      "StartCollab : Collab Start\n",
      "StopCollab : Collab Stop\n",
      "NULL : Collaborative Session\n",
      "ConnectedUsersList : Connected Users\n",
      "CopyPublicLinkToSpaceButton : Copy a Public Sharing Link to a Space\n",
      "CopyPublicLinkToViewButton : Copy a Public Sharing Link to a View Block\n",
      "NULL : Create a New Project\n",
      "NULL : Create a User Account\n",
      "NULL : Delete Data\n",
      "NULL : Delete Your User Account\n",
      "DeleteExplorerButton : Delete a Space\n",
      "DuplicateSpaceButton : Duplicate a Space\n",
      "EditProjectData : Edit Data\n",
      "NULL : Edit Your User Data\n",
      "NULL : Essential App Elements\n",
      "ExpandLogButton : Expand Activity Feed\n",
      "OpenExplorerButton : Explorer\n",
      "CloseExplorerButton : Explorer Close\n",
      "AddExplorerButton : Explorer New\n",
      "ExplorerOptionsButton : Explorer Options\n",
      "NULL : FAQ\n",
      "NULL : GemPy\n",
      "NULL : Get the LiquidEarth App\n",
      "NULL : Go To Parent\n",
      "NULL : Go To Parent\n",
      "NULL : Guest Viewer UI\n",
      "ExplorerDataImporter : Import Data\n",
      "NULL : Import Formats\n",
      "CloseInspectorButton : Inspector Close\n",
      "EditName : Inspector Edit Name\n",
      "NULL : Inspector\n",
      "NULL : Introduction\n",
      "NULL : Introduction\n",
      "NULL : Key Bindings (Windows)\n",
      "NULL : LiquidEarth\n",
      "LoadProject : Load Into Workspace\n",
      "NULL : Load an Existing Project\n",
      "LocalDataTabButton; OpenLocalButton : Local Explorer\n",
      "NULL : Log out\n",
      "LoginButton : Login Button\n",
      "NULL : Manage Your User Account\n",
      "MaxExtent : Maximum Extent\n",
      "MinExtent : Minimum Extent\n",
      "NULL : Mute Microphone\n",
      "NULL : Mute Speaker\n",
      "AddSessionButton : New Session\n",
      "NULL : Note Block\n",
      "OfflineStartButtonControl : Offline Mode\n",
      "OpenInspectorButton : Open In Inspector\n",
      "LiquidpediaButton : Open User Manual\n",
      "NULL : Owner\n",
      "NULL : Parent Element Name\n",
      "LoginPassword : Password\n",
      "NULL : Preview Mode\n",
      "NULL : Probe\n",
      "NULL : Public Sharing Link\n",
      "NULL : Quickbars\n",
      "NULL : Real-time collaboration\n",
      "RememberAccount : Remember Log-In Information\n",
      "NULL : Reset Password\n",
      "NULL : Selected Content\n",
      "ProjectsTabButton; OpenProjectsButton : Server Explorer\n",
      "NULL : Session Host\n",
      "SessionNamingField : Session Naming\n",
      "NULL : Settings: Advanced\n",
      "NULL : Settings: Background\n",
      "NULL : Settings: Camera Settings\n",
      "NULL : Settings: Collab\n",
      "NULL : Settings: Color Theme\n",
      "NULL : Settings: Data\n",
      "NULL : Settings: Display\n",
      "NULL : Settings: Experimental Mode\n",
      "NULL : Settings: Floor\n",
      "NULL : Settings: Floor Anchoring\n",
      "NULL : Settings: GUI Scale\n",
      "NULL : Settings: Graphics Quality\n",
      "NULL : Settings: Offline Projects Use Space\n",
      "NULL : Settings Overview\n",
      "NULL : Settings: Performance Monitor\n",
      "NULL : Settings: Pop-Up Windows\n",
      "SettingsAutoCacheSizeLimitDropdown : Settings: Quick-load Cache Size\n",
      "NULL : Settings: Render Scale\n",
      "NULL : Settings: Selected Content Highlight Mode\n",
      "NULL : Settings: Shadow Distance\n",
      "NULL : Settings: Target Frame Rate\n",
      "NULL : Settings: VSync Passes\n",
      "ShareSpaceButton : Share a Space\n",
      "NULL : Sketch Block\n",
      "NULL : Space\n",
      "SpatialMenu : Spatial Menu\n",
      "NULL : Start & Sign In\n",
      "NULL : Subspace\n",
      "SubspacesList : Subspaces List\n",
      "NULL : Subsurface\n",
      "NULL : Supported Devices\n",
      "ProjectThumbnail : Thumbnail\n",
      "NULL : Tooltips\n",
      "NULL : Transform Gizmo\n",
      "LoginUser : User\n",
      "NULL : User Account\n",
      "NetworkPanel : User Profile and Network Menu\n",
      "NULL : View Block\n",
      "HideShowQuickAccess : Visibility Toggle\n",
      "NULL : Visualization & Basic Interactions\n",
      "NULL : Voice Chat\n",
      "NULL : Workspace\n",
      "NULL : XR Gotchas\n",
      "ImportObjButton : import .DXF/ .OMF\n",
      "ImportObjButton : import .obj\n"
     ]
    }
   ],
   "source": [
    "import re\n",
    "\n",
    "# save control fields in the documents metadata\n",
    "for doc in documents:\n",
    "\n",
    "    # extract the Value of the control from the text with regex. controls are in the format: /nControl: Value/n\n",
    "    contr = re.search(r'(?<=\\nControl: ).*(?=\\n)', doc.text)\n",
    "    #get the title. it is the first line of the text\n",
    "    title = doc.text.split('\\n')[2]\n",
    "\n",
    "    #check if a control value was found and write it to the metadata\n",
    "    if contr:\n",
    "        doc.metadata['Control'] = contr.group(0)\n",
    "        print(doc.metadata['Control'] + ' : ' + title)\n"
   ],
   "metadata": {
    "collapsed": false
   }
  },
  {
   "cell_type": "code",
   "execution_count": 12,
   "outputs": [],
   "source": [
    "# This is for when building the index from nodes instead Documents:\n",
    "# Nodes are usefull when the same nodes should be part of several indexes\n",
    "from llama_index.node_parser import SimpleNodeParser\n",
    "\n",
    "parser = SimpleNodeParser()\n",
    "\n",
    "nodes = parser.get_nodes_from_documents(documents)"
   ],
   "metadata": {
    "collapsed": false
   }
  },
  {
   "cell_type": "code",
   "execution_count": 13,
   "outputs": [
    {
     "name": "stdout",
     "output_type": "stream",
     "text": [
      "Embedding Token Usage: 441\n",
      "Embedding Token Usage: 628\n",
      "Embedding Token Usage: 335\n",
      "Embedding Token Usage: 329\n",
      "Embedding Token Usage: 421\n",
      "Embedding Token Usage: 1004\n",
      "Embedding Token Usage: 545\n",
      "Embedding Token Usage: 1510\n",
      "Embedding Token Usage: 831\n",
      "Embedding Token Usage: 279\n",
      "Embedding Token Usage: 851\n",
      "Embedding Token Usage: 706\n",
      "Embedding Token Usage: 560\n",
      "Embedding Token Usage: 757\n",
      "Embedding Token Usage: 383\n",
      "Embedding Token Usage: 425\n",
      "Embedding Token Usage: 300\n",
      "Embedding Token Usage: 565\n",
      "Embedding Token Usage: 723\n",
      "Embedding Token Usage: 285\n",
      "Embedding Token Usage: 573\n",
      "Embedding Token Usage: 499\n",
      "Embedding Token Usage: 826\n",
      "Embedding Token Usage: 345\n",
      "Embedding Token Usage: 388\n",
      "Embedding Token Usage: 1471\n",
      "Embedding Token Usage: 1206\n",
      "Embedding Token Usage: 9062\n",
      "Embedding Token Usage: 412\n",
      "Embedding Token Usage: 931\n",
      "Embedding Token Usage: 1048\n",
      "Embedding Token Usage: 2510\n",
      "Embedding Token Usage: 1103\n",
      "Embedding Token Usage: 4367\n",
      "Embedding Token Usage: 3477\n"
     ]
    }
   ],
   "source": [
    "from llama_index import VectorStoreIndex\n",
    "from llama_index import LangchainEmbedding, ServiceContext\n",
    "\n",
    "service_context = ServiceContext.from_defaults(callback_manager=callback_manager) # use default settings but connect the token logger\n",
    "vector_index = VectorStoreIndex.from_documents(documents, service_context=service_context)"
   ],
   "metadata": {
    "collapsed": false
   }
  },
  {
   "cell_type": "code",
   "execution_count": 14,
   "outputs": [
    {
     "name": "stdout",
     "output_type": "stream",
     "text": [
      "79751\n"
     ]
    }
   ],
   "source": [
    "print(token_counter.total_embedding_token_count)"
   ],
   "metadata": {
    "collapsed": false
   }
  },
  {
   "cell_type": "markdown",
   "source": [
    "## create a List Index"
   ],
   "metadata": {
    "collapsed": false
   }
  },
  {
   "cell_type": "code",
   "execution_count": 9,
   "outputs": [
    {
     "ename": "AttributeError",
     "evalue": "type object 'ListIndex' has no attribute 'from_nodes'",
     "output_type": "error",
     "traceback": [
      "\u001B[0;31m---------------------------------------------------------------------------\u001B[0m",
      "\u001B[0;31mAttributeError\u001B[0m                            Traceback (most recent call last)",
      "Cell \u001B[0;32mIn[9], line 4\u001B[0m\n\u001B[1;32m      2\u001B[0m documents \u001B[38;5;241m=\u001B[39m SimpleDirectoryReader(\u001B[38;5;124m'\u001B[39m\u001B[38;5;124m./data/ListData\u001B[39m\u001B[38;5;124m'\u001B[39m, recursive\u001B[38;5;241m=\u001B[39m\u001B[38;5;28;01mTrue\u001B[39;00m)\u001B[38;5;241m.\u001B[39mload_data()\n\u001B[1;32m      3\u001B[0m nodes \u001B[38;5;241m=\u001B[39m parser\u001B[38;5;241m.\u001B[39mget_nodes_from_documents(documents)\n\u001B[0;32m----> 4\u001B[0m list_index\u001B[38;5;241m=\u001B[39m \u001B[43mListIndex\u001B[49m\u001B[38;5;241;43m.\u001B[39;49m\u001B[43mfrom_nodes\u001B[49m(nodes)\n",
      "\u001B[0;31mAttributeError\u001B[0m: type object 'ListIndex' has no attribute 'from_nodes'"
     ]
    }
   ],
   "source": [
    "from llama_index import ListIndex\n",
    "documents = SimpleDirectoryReader('./data/ListData', recursive=True).load_data()\n",
    "nodes = parser.get_nodes_from_documents(documents)\n",
    "list_index= ListIndex.from_nodes(nodes)"
   ],
   "metadata": {
    "collapsed": false
   }
  },
  {
   "cell_type": "markdown",
   "source": [
    "## save the index\n",
    "\n",
    "saves the index under /storage in json format"
   ],
   "metadata": {
    "collapsed": false
   }
  },
  {
   "cell_type": "code",
   "execution_count": 15,
   "outputs": [],
   "source": [
    "vector_index.storage_context.persist()"
   ],
   "metadata": {
    "collapsed": false
   }
  },
  {
   "cell_type": "code",
   "execution_count": null,
   "outputs": [],
   "source": [],
   "metadata": {
    "collapsed": false
   }
  }
 ],
 "metadata": {
  "kernelspec": {
   "display_name": "Python 3",
   "language": "python",
   "name": "python3"
  },
  "language_info": {
   "codemirror_mode": {
    "name": "ipython",
    "version": 2
   },
   "file_extension": ".py",
   "mimetype": "text/x-python",
   "name": "python",
   "nbconvert_exporter": "python",
   "pygments_lexer": "ipython2",
   "version": "2.7.6"
  }
 },
 "nbformat": 4,
 "nbformat_minor": 0
}
